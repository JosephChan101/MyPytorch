{
 "cells": [
  {
   "cell_type": "code",
   "execution_count": 1,
   "id": "163391ad-8ca0-4403-8e0b-c70df34e7dd7",
   "metadata": {
    "tags": []
   },
   "outputs": [],
   "source": [
    "import numpy as np\n",
    "import torch\n",
    "from torch import nn\n",
    "from torch.autograd import Variable\n",
    "\n",
    "sample_size = 5000"
   ]
  },
  {
   "cell_type": "code",
   "execution_count": 2,
   "id": "e2f2a87d-5fe4-4110-bb92-79097c2cab03",
   "metadata": {
    "tags": []
   },
   "outputs": [],
   "source": [
    "# Generate some independent variables\n",
    "x = Variable(torch.rand(sample_size, 3))"
   ]
  },
  {
   "cell_type": "code",
   "execution_count": 3,
   "id": "af0face9-3f63-4afc-92b3-790234baf051",
   "metadata": {
    "tags": []
   },
   "outputs": [],
   "source": [
    "# bias term\n",
    "b0 = torch.tensor(4.27)\n",
    "# Coefficients\n",
    "b = Variable(torch.tensor([[2.5], [-3.1], [4.6]]))\n",
    "# add some noises\n",
    "err = Variable((torch.rand(sample_size, 1)-0.5)*0.27)\n",
    "# bias term"
   ]
  },
  {
   "cell_type": "code",
   "execution_count": 4,
   "id": "d0ecb14c-9400-4e95-aff9-dced388c5e87",
   "metadata": {},
   "outputs": [],
   "source": [
    "err = Variable((torch.rand(sample_size, 1)-0.5)*0.27)"
   ]
  },
  {
   "cell_type": "code",
   "execution_count": 5,
   "id": "2cfbf765-1de4-4e5c-bab2-94662f22052e",
   "metadata": {
    "tags": []
   },
   "outputs": [],
   "source": [
    "# Generate the dependent variables\n",
    "y = torch.matmul(x, b) + b0 + err"
   ]
  },
  {
   "cell_type": "code",
   "execution_count": 6,
   "id": "3dc7897d-b785-4035-a614-16b0e4ca9fd0",
   "metadata": {
    "tags": []
   },
   "outputs": [
    {
     "data": {
      "text/plain": [
       "(torch.Size([5000, 3]), torch.Size([5000, 1]))"
      ]
     },
     "execution_count": 6,
     "metadata": {},
     "output_type": "execute_result"
    }
   ],
   "source": [
    "x.shape, y.shape"
   ]
  },
  {
   "cell_type": "code",
   "execution_count": 7,
   "id": "6174e678-4775-4555-90b0-f9da6f7adf25",
   "metadata": {
    "tags": []
   },
   "outputs": [],
   "source": [
    "class LinearRegression(nn.Module):\n",
    "    def __init__(self): \n",
    "        super(LinearRegression, self).__init__() \n",
    "        self.linear = nn.Linear(3, 1, bias=True)\n",
    "      \n",
    "    def forward(self, x): \n",
    "        predict_y = self.linear(x) \n",
    "        return predict_y "
   ]
  },
  {
   "cell_type": "code",
   "execution_count": 8,
   "id": "705633ca-0ac5-4c2d-b663-88dd3d2be168",
   "metadata": {
    "tags": []
   },
   "outputs": [
    {
     "name": "stdout",
     "output_type": "stream",
     "text": [
      "LinearRegression(\n",
      "  (linear): Linear(in_features=3, out_features=1, bias=True)\n",
      ")\n"
     ]
    }
   ],
   "source": [
    "linear_model = LinearRegression()\n",
    "print(linear_model)"
   ]
  },
  {
   "cell_type": "code",
   "execution_count": 9,
   "id": "42f55c4c-4c2e-46e0-a353-2505187159bb",
   "metadata": {
    "tags": []
   },
   "outputs": [],
   "source": [
    "define_criterion = nn.MSELoss()\n",
    "\n",
    "SGD_optimizer = torch.optim.SGD(linear_model.parameters(), lr=0.01)"
   ]
  },
  {
   "cell_type": "code",
   "execution_count": 10,
   "id": "01493555-04e7-4a18-bee9-0615baab6962",
   "metadata": {
    "tags": []
   },
   "outputs": [
    {
     "name": "stdout",
     "output_type": "stream",
     "text": [
      "epoch 0, loss function 46.759220123291016\n",
      "epoch 500, loss function 0.44828808307647705\n",
      "epoch 1000, loss function 0.09358375519514084\n",
      "epoch 1500, loss function 0.02526259422302246\n",
      "epoch 2000, loss function 0.010889760218560696\n",
      "epoch 2500, loss function 0.00743509829044342\n",
      "epoch 3000, loss function 0.006464546080678701\n",
      "epoch 3500, loss function 0.006151928100734949\n",
      "epoch 4000, loss function 0.006041545886546373\n",
      "epoch 4500, loss function 0.00600049551576376\n",
      "epoch 5000, loss function 0.005984831135720015\n",
      "epoch 5500, loss function 0.005978775676339865\n",
      "epoch 6000, loss function 0.005976420361548662\n",
      "epoch 6500, loss function 0.00597549881786108\n",
      "epoch 7000, loss function 0.005975132808089256\n",
      "epoch 7500, loss function 0.005974988453090191\n",
      "epoch 8000, loss function 0.0059749288484454155\n",
      "epoch 8500, loss function 0.0059749046340584755\n",
      "epoch 9000, loss function 0.005974895320832729\n",
      "epoch 9500, loss function 0.005974895320832729\n",
      "CPU times: total: 2.08 s\n",
      "Wall time: 2.09 s\n"
     ]
    }
   ],
   "source": [
    "%%time\n",
    "for epoch in range(10000):     \n",
    "    predict_y = linear_model(x) \n",
    "    loss = define_criterion(predict_y, y) \n",
    "    SGD_optimizer.zero_grad() \n",
    "    loss.backward() \n",
    "    SGD_optimizer.step() \n",
    "    if epoch % 500 == 0:\n",
    "        print('epoch {}, loss function {}'.format(epoch, loss.item()))"
   ]
  },
  {
   "cell_type": "code",
   "execution_count": 11,
   "id": "58e201b5-570d-4f7f-8f9a-e81975f25a98",
   "metadata": {
    "tags": []
   },
   "outputs": [
    {
     "name": "stdout",
     "output_type": "stream",
     "text": [
      "The result of predictions after training: 16.588848114013672\n"
     ]
    }
   ],
   "source": [
    "test_variable = Variable(torch.Tensor([[4.0, 8.0, 5.9]]))\n",
    "\n",
    "predict_y = linear_model(test_variable)\n",
    "item = linear_model(test_variable).item()\n",
    "print(f\"The result of predictions after training: {item}\")"
   ]
  },
  {
   "cell_type": "code",
   "execution_count": 12,
   "id": "59395ee8-0cd1-4407-9f0b-be464d033bc2",
   "metadata": {},
   "outputs": [
    {
     "data": {
      "text/plain": [
       "(Parameter containing:\n",
       " tensor([[ 2.5020, -3.1025,  4.5981]], requires_grad=True),\n",
       " Parameter containing:\n",
       " tensor([4.2722], requires_grad=True))"
      ]
     },
     "execution_count": 12,
     "metadata": {},
     "output_type": "execute_result"
    }
   ],
   "source": [
    "linear_model.linear.weight, linear_model.linear.bias"
   ]
  },
  {
   "cell_type": "code",
   "execution_count": 13,
   "id": "ef002665-1852-4db3-93cb-00442fbf62f3",
   "metadata": {
    "tags": []
   },
   "outputs": [
    {
     "data": {
      "text/plain": [
       "16.61"
      ]
     },
     "execution_count": 13,
     "metadata": {},
     "output_type": "execute_result"
    }
   ],
   "source": [
    "# using the original function coefficients\n",
    "# [2.5], [-3.1], [4.6]\n",
    "4*2.5 - 8*3.1 + 4.6*5.9 + 4.27"
   ]
  }
 ],
 "metadata": {
  "kernelspec": {
   "display_name": "Python 3 (ipykernel)",
   "language": "python",
   "name": "python3"
  },
  "language_info": {
   "codemirror_mode": {
    "name": "ipython",
    "version": 3
   },
   "file_extension": ".py",
   "mimetype": "text/x-python",
   "name": "python",
   "nbconvert_exporter": "python",
   "pygments_lexer": "ipython3",
   "version": "3.11.3"
  }
 },
 "nbformat": 4,
 "nbformat_minor": 5
}
